{
 "cells": [
  {
   "cell_type": "code",
   "execution_count": 88,
   "id": "7cd577d1",
   "metadata": {},
   "outputs": [],
   "source": [
    "import pandas as pd\n",
    "from dateutil.parser import parse\n"
   ]
  },
  {
   "cell_type": "code",
   "execution_count": 123,
   "id": "42b6440b",
   "metadata": {},
   "outputs": [
    {
     "name": "stdout",
     "output_type": "stream",
     "text": [
      "CSV file read successfully.\n"
     ]
    }
   ],
   "source": [
    "supplier_feed = pd.read_csv('../data/supplier_feed.csv')\n",
    "print(\"CSV file read successfully.\")"
   ]
  },
  {
   "cell_type": "code",
   "execution_count": 124,
   "id": "c733bc97",
   "metadata": {},
   "outputs": [
    {
     "data": {
      "text/html": [
       "<div>\n",
       "<style scoped>\n",
       "    .dataframe tbody tr th:only-of-type {\n",
       "        vertical-align: middle;\n",
       "    }\n",
       "\n",
       "    .dataframe tbody tr th {\n",
       "        vertical-align: top;\n",
       "    }\n",
       "\n",
       "    .dataframe thead th {\n",
       "        text-align: right;\n",
       "    }\n",
       "</style>\n",
       "<table border=\"1\" class=\"dataframe\">\n",
       "  <thead>\n",
       "    <tr style=\"text-align: right;\">\n",
       "      <th></th>\n",
       "      <th>part_id</th>\n",
       "      <th>stock_level</th>\n",
       "      <th>cost_price</th>\n",
       "      <th>entry_date</th>\n",
       "    </tr>\n",
       "  </thead>\n",
       "  <tbody>\n",
       "    <tr>\n",
       "      <th>0</th>\n",
       "      <td>SP-236</td>\n",
       "      <td>Low Stock</td>\n",
       "      <td>287.32</td>\n",
       "      <td>2024-06-29</td>\n",
       "    </tr>\n",
       "    <tr>\n",
       "      <th>1</th>\n",
       "      <td>SP-325</td>\n",
       "      <td>248</td>\n",
       "      <td>388.87</td>\n",
       "      <td>Mar 17, 2025</td>\n",
       "    </tr>\n",
       "    <tr>\n",
       "      <th>2</th>\n",
       "      <td>SP-179</td>\n",
       "      <td>82</td>\n",
       "      <td>109</td>\n",
       "      <td>2025-04-14</td>\n",
       "    </tr>\n",
       "    <tr>\n",
       "      <th>3</th>\n",
       "      <td>SP-332</td>\n",
       "      <td>171</td>\n",
       "      <td>419.6</td>\n",
       "      <td>2025-05-10</td>\n",
       "    </tr>\n",
       "    <tr>\n",
       "      <th>4</th>\n",
       "      <td>SP-268</td>\n",
       "      <td>72</td>\n",
       "      <td>279.69</td>\n",
       "      <td>2024-04-08</td>\n",
       "    </tr>\n",
       "  </tbody>\n",
       "</table>\n",
       "</div>"
      ],
      "text/plain": [
       "  part_id stock_level cost_price    entry_date\n",
       "0  SP-236   Low Stock     287.32    2024-06-29\n",
       "1  SP-325         248     388.87  Mar 17, 2025\n",
       "2  SP-179          82        109    2025-04-14\n",
       "3  SP-332         171      419.6    2025-05-10\n",
       "4  SP-268          72     279.69    2024-04-08"
      ]
     },
     "execution_count": 124,
     "metadata": {},
     "output_type": "execute_result"
    }
   ],
   "source": [
    "supplier_feed.head()"
   ]
  },
  {
   "cell_type": "code",
   "execution_count": 125,
   "id": "b7541e77",
   "metadata": {},
   "outputs": [
    {
     "name": "stdout",
     "output_type": "stream",
     "text": [
      "<class 'pandas.core.frame.DataFrame'>\n",
      "RangeIndex: 30000 entries, 0 to 29999\n",
      "Data columns (total 4 columns):\n",
      " #   Column       Non-Null Count  Dtype \n",
      "---  ------       --------------  ----- \n",
      " 0   part_id      30000 non-null  object\n",
      " 1   stock_level  26064 non-null  object\n",
      " 2   cost_price   28463 non-null  object\n",
      " 3   entry_date   30000 non-null  object\n",
      "dtypes: object(4)\n",
      "memory usage: 937.6+ KB\n"
     ]
    }
   ],
   "source": [
    "supplier_feed.info()"
   ]
  },
  {
   "cell_type": "code",
   "execution_count": 126,
   "id": "9e895253",
   "metadata": {},
   "outputs": [
    {
     "data": {
      "text/html": [
       "<div>\n",
       "<style scoped>\n",
       "    .dataframe tbody tr th:only-of-type {\n",
       "        vertical-align: middle;\n",
       "    }\n",
       "\n",
       "    .dataframe tbody tr th {\n",
       "        vertical-align: top;\n",
       "    }\n",
       "\n",
       "    .dataframe thead th {\n",
       "        text-align: right;\n",
       "    }\n",
       "</style>\n",
       "<table border=\"1\" class=\"dataframe\">\n",
       "  <thead>\n",
       "    <tr style=\"text-align: right;\">\n",
       "      <th></th>\n",
       "      <th>part_id</th>\n",
       "      <th>stock_level</th>\n",
       "      <th>cost_price</th>\n",
       "      <th>entry_date</th>\n",
       "    </tr>\n",
       "  </thead>\n",
       "  <tbody>\n",
       "    <tr>\n",
       "      <th>count</th>\n",
       "      <td>30000</td>\n",
       "      <td>26064</td>\n",
       "      <td>28463</td>\n",
       "      <td>30000</td>\n",
       "    </tr>\n",
       "    <tr>\n",
       "      <th>unique</th>\n",
       "      <td>400</td>\n",
       "      <td>501</td>\n",
       "      <td>21333</td>\n",
       "      <td>2305</td>\n",
       "    </tr>\n",
       "    <tr>\n",
       "      <th>top</th>\n",
       "      <td>SP-468</td>\n",
       "      <td>LOW</td>\n",
       "      <td>358</td>\n",
       "      <td>Jan 04, 2025</td>\n",
       "    </tr>\n",
       "    <tr>\n",
       "      <th>freq</th>\n",
       "      <td>98</td>\n",
       "      <td>1012</td>\n",
       "      <td>19</td>\n",
       "      <td>36</td>\n",
       "    </tr>\n",
       "  </tbody>\n",
       "</table>\n",
       "</div>"
      ],
      "text/plain": [
       "       part_id stock_level cost_price    entry_date\n",
       "count    30000       26064      28463         30000\n",
       "unique     400         501      21333          2305\n",
       "top     SP-468         LOW        358  Jan 04, 2025\n",
       "freq        98        1012         19            36"
      ]
     },
     "execution_count": 126,
     "metadata": {},
     "output_type": "execute_result"
    }
   ],
   "source": [
    "supplier_feed.describe()"
   ]
  },
  {
   "cell_type": "code",
   "execution_count": 127,
   "id": "dd45a7ea",
   "metadata": {},
   "outputs": [],
   "source": [
    "def is_integer(value):\n",
    "    try:\n",
    "        int(value)\n",
    "        return True\n",
    "    except ValueError:\n",
    "        return False\n",
    "\n",
    "def is_float(value):\n",
    "    try:\n",
    "        float(value)\n",
    "        return True\n",
    "    except ValueError:\n",
    "        return False"
   ]
  },
  {
   "cell_type": "code",
   "execution_count": 128,
   "id": "5faf8628",
   "metadata": {},
   "outputs": [
    {
     "name": "stdout",
     "output_type": "stream",
     "text": [
      "['Low Stock' 'UNAVAILABLE' 'low stock' nan 'Out of Stock' 'LOW']\n"
     ]
    }
   ],
   "source": [
    "non_int_stock_level_mask = ~supplier_feed['stock_level'].apply(is_integer)\n",
    "non_int_stock_level_values = supplier_feed.loc[non_int_stock_level_mask, 'stock_level'].unique()\n",
    "print(non_int_stock_level_values)\n",
    "\n"
   ]
  },
  {
   "cell_type": "code",
   "execution_count": 129,
   "id": "91994559",
   "metadata": {},
   "outputs": [],
   "source": [
    "supplier_feed.fillna({'stock_level': '-1'}, inplace=True)"
   ]
  },
  {
   "cell_type": "code",
   "execution_count": 151,
   "id": "29af6fe1",
   "metadata": {},
   "outputs": [
    {
     "data": {
      "text/plain": [
       "0          Low Stock\n",
       "1                248\n",
       "2                 82\n",
       "3                171\n",
       "4                 72\n",
       "            ...     \n",
       "29995            385\n",
       "29996             -1\n",
       "29997             -1\n",
       "29998    UNAVAILABLE\n",
       "29999            350\n",
       "Name: stock_level_clean, Length: 30000, dtype: object"
      ]
     },
     "execution_count": 151,
     "metadata": {},
     "output_type": "execute_result"
    }
   ],
   "source": [
    "supplier_feed[\"stock_level_clean\"] = supplier_feed[\"stock_level\"]\n",
    "\n",
    "supplier_feed[\"stock_level_clean\"]"
   ]
  },
  {
   "cell_type": "code",
   "execution_count": 154,
   "id": "f8d411fe",
   "metadata": {},
   "outputs": [],
   "source": [
    "binary_map = {\n",
    "    \"low stock\": 1,\n",
    "    \"low\": 1,\n",
    "    \"unavailable\": 0,\n",
    "    \"out of stock\": 0\n",
    "}\n",
    "\n",
    "def clean_stock(s):\n",
    "    try:\n",
    "        return int(s)\n",
    "    except ValueError:\n",
    "        # not a number, treat as text\n",
    "        s_norm = str(s).strip().lower()\n",
    "        return binary_map.get(s_norm, None)\n",
    "\n",
    "supplier_feed[\"stock_level_clean\"] = supplier_feed[\"stock_level_clean\"].apply(clean_stock)\n"
   ]
  },
  {
   "cell_type": "code",
   "execution_count": 155,
   "id": "601d0d67",
   "metadata": {},
   "outputs": [
    {
     "data": {
      "text/plain": [
       "0          1\n",
       "1        248\n",
       "2         82\n",
       "3        171\n",
       "4         72\n",
       "        ... \n",
       "29995    385\n",
       "29996     -1\n",
       "29997     -1\n",
       "29998      0\n",
       "29999    350\n",
       "Name: stock_level_clean, Length: 30000, dtype: int64"
      ]
     },
     "execution_count": 155,
     "metadata": {},
     "output_type": "execute_result"
    }
   ],
   "source": [
    "supplier_feed[\"stock_level_clean\"]"
   ]
  },
  {
   "cell_type": "code",
   "execution_count": 95,
   "id": "54904486",
   "metadata": {},
   "outputs": [
    {
     "name": "stdout",
     "output_type": "stream",
     "text": [
      "['$203.60' '$45.49' '$285.43' ... '$21.53' '$146.14' '$288.32']\n"
     ]
    }
   ],
   "source": [
    "non_int_cost_price_mask = ~supplier_feed['cost_price'].apply(is_float)\n",
    "non_int_cost_price_values = supplier_feed.loc[non_int_cost_price_mask, 'cost_price'].unique()\n",
    "print(non_int_cost_price_values)"
   ]
  },
  {
   "cell_type": "code",
   "execution_count": 96,
   "id": "e1ee312a",
   "metadata": {},
   "outputs": [],
   "source": [
    "def remove_dollar_sign(value):\n",
    "    return str(value).replace('$', '')\n",
    "\n",
    "supplier_feed['cost_price_filter'] = supplier_feed['cost_price'].apply(remove_dollar_sign)"
   ]
  },
  {
   "cell_type": "code",
   "execution_count": 97,
   "id": "b5d3cdd6",
   "metadata": {},
   "outputs": [
    {
     "data": {
      "text/plain": [
       "np.int64(0)"
      ]
     },
     "execution_count": 97,
     "metadata": {},
     "output_type": "execute_result"
    }
   ],
   "source": [
    "supplier_feed['cost_price_filter'].isna().sum()"
   ]
  },
  {
   "cell_type": "code",
   "execution_count": 98,
   "id": "3874116f",
   "metadata": {},
   "outputs": [
    {
     "name": "stdout",
     "output_type": "stream",
     "text": [
      "0                 2024-06-29\n",
      "1               Mar 17, 2025\n",
      "2                 2025-04-14\n",
      "3                 2025-05-10\n",
      "4                 2024-04-08\n",
      "                ...         \n",
      "29995             2025-04-22\n",
      "29996             2024-03-17\n",
      "29997    2024-09-18T00:00:00\n",
      "29998               04/26/25\n",
      "29999               06/29/25\n",
      "Name: entry_date, Length: 30000, dtype: object\n"
     ]
    }
   ],
   "source": [
    "print(supplier_feed[\"entry_date\"])"
   ]
  },
  {
   "cell_type": "code",
   "execution_count": 99,
   "id": "2417ffe8",
   "metadata": {},
   "outputs": [],
   "source": [
    "EXPLICIT_FORMATS = [\n",
    "    \"%Y-%m-%d\", \"%Y/%m/%d\",\n",
    "    \"%m/%d/%Y\", \"%m/%d/%y\",\n",
    "    \"%d/%m/%Y\", \"%d/%m/%y\",\n",
    "    \"%b %d, %Y\",  # Mar 17, 2025\n",
    "    \"%B %d, %Y\",  # March 17, 2025\n",
    "    \"%Y-%m-%dT%H:%M:%S\", \"%Y-%m-%d %H:%M:%S\",\n",
    "    \"%Y-%m-%dT%H:%M:%S.%f\", \"%Y-%m-%d %H:%M:%S.%f\",\n",
    "]\n",
    "\n",
    "def _clean(s):\n",
    "    if pd.isna(s): return s\n",
    "    s = str(s).replace(\"\\u00A0\", \" \").strip()\n",
    "    s = s.strip('\\'\"“”‘’`')  # strip common quotes\n",
    "    return s\n",
    "\n",
    "def parse_any(x):\n",
    "    s = _clean(x)\n",
    "    if pd.isna(s) or s == \"\": return pd.NaT\n",
    "    # try explicit formats first\n",
    "    for fmt in EXPLICIT_FORMATS:\n",
    "        try:\n",
    "            return pd.to_datetime(s, format=fmt)\n",
    "        except Exception:\n",
    "            pass\n",
    "    # let pandas try generic parse\n",
    "    try:\n",
    "        return pd.to_datetime(s, errors=\"raise\")\n",
    "    except Exception:\n",
    "        pass\n",
    "    # final fallback: dateutil (very tolerant)\n",
    "    try:\n",
    "        return parse(s, dayfirst=False)\n",
    "    except Exception:\n",
    "        return pd.NaT\n",
    "\n",
    "supplier_feed[\"entry_date_dt\"]  = supplier_feed[\"entry_date\"].apply(parse_any)"
   ]
  },
  {
   "cell_type": "code",
   "execution_count": 100,
   "id": "cb365c28",
   "metadata": {},
   "outputs": [
    {
     "data": {
      "text/html": [
       "<div>\n",
       "<style scoped>\n",
       "    .dataframe tbody tr th:only-of-type {\n",
       "        vertical-align: middle;\n",
       "    }\n",
       "\n",
       "    .dataframe tbody tr th {\n",
       "        vertical-align: top;\n",
       "    }\n",
       "\n",
       "    .dataframe thead th {\n",
       "        text-align: right;\n",
       "    }\n",
       "</style>\n",
       "<table border=\"1\" class=\"dataframe\">\n",
       "  <thead>\n",
       "    <tr style=\"text-align: right;\">\n",
       "      <th></th>\n",
       "      <th>part_id</th>\n",
       "      <th>stock_level</th>\n",
       "      <th>cost_price</th>\n",
       "      <th>entry_date</th>\n",
       "      <th>cost_price_filter</th>\n",
       "      <th>entry_date_dt</th>\n",
       "    </tr>\n",
       "  </thead>\n",
       "  <tbody>\n",
       "    <tr>\n",
       "      <th>0</th>\n",
       "      <td>SP-236</td>\n",
       "      <td>Low Stock</td>\n",
       "      <td>287.32</td>\n",
       "      <td>2024-06-29</td>\n",
       "      <td>287.32</td>\n",
       "      <td>2024-06-29</td>\n",
       "    </tr>\n",
       "    <tr>\n",
       "      <th>1</th>\n",
       "      <td>SP-325</td>\n",
       "      <td>248</td>\n",
       "      <td>388.87</td>\n",
       "      <td>Mar 17, 2025</td>\n",
       "      <td>388.87</td>\n",
       "      <td>2025-03-17</td>\n",
       "    </tr>\n",
       "    <tr>\n",
       "      <th>2</th>\n",
       "      <td>SP-179</td>\n",
       "      <td>82</td>\n",
       "      <td>109</td>\n",
       "      <td>2025-04-14</td>\n",
       "      <td>109</td>\n",
       "      <td>2025-04-14</td>\n",
       "    </tr>\n",
       "    <tr>\n",
       "      <th>3</th>\n",
       "      <td>SP-332</td>\n",
       "      <td>171</td>\n",
       "      <td>419.6</td>\n",
       "      <td>2025-05-10</td>\n",
       "      <td>419.6</td>\n",
       "      <td>2025-05-10</td>\n",
       "    </tr>\n",
       "    <tr>\n",
       "      <th>4</th>\n",
       "      <td>SP-268</td>\n",
       "      <td>72</td>\n",
       "      <td>279.69</td>\n",
       "      <td>2024-04-08</td>\n",
       "      <td>279.69</td>\n",
       "      <td>2024-04-08</td>\n",
       "    </tr>\n",
       "  </tbody>\n",
       "</table>\n",
       "</div>"
      ],
      "text/plain": [
       "  part_id stock_level cost_price    entry_date cost_price_filter entry_date_dt\n",
       "0  SP-236   Low Stock     287.32    2024-06-29            287.32    2024-06-29\n",
       "1  SP-325         248     388.87  Mar 17, 2025            388.87    2025-03-17\n",
       "2  SP-179          82        109    2025-04-14               109    2025-04-14\n",
       "3  SP-332         171      419.6    2025-05-10             419.6    2025-05-10\n",
       "4  SP-268          72     279.69    2024-04-08            279.69    2024-04-08"
      ]
     },
     "execution_count": 100,
     "metadata": {},
     "output_type": "execute_result"
    }
   ],
   "source": [
    "supplier_feed.head()"
   ]
  },
  {
   "cell_type": "code",
   "execution_count": null,
   "id": "460e202b",
   "metadata": {},
   "outputs": [],
   "source": []
  },
  {
   "cell_type": "code",
   "execution_count": null,
   "id": "7aa6cd2a",
   "metadata": {},
   "outputs": [],
   "source": []
  }
 ],
 "metadata": {
  "kernelspec": {
   "display_name": "data_env",
   "language": "python",
   "name": "python3"
  },
  "language_info": {
   "codemirror_mode": {
    "name": "ipython",
    "version": 3
   },
   "file_extension": ".py",
   "mimetype": "text/x-python",
   "name": "python",
   "nbconvert_exporter": "python",
   "pygments_lexer": "ipython3",
   "version": "3.10.18"
  }
 },
 "nbformat": 4,
 "nbformat_minor": 5
}
